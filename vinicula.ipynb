{
 "cells": [
  {
   "attachments": {},
   "cell_type": "markdown",
   "metadata": {},
   "source": [
    "# Imports"
   ]
  },
  {
   "cell_type": "code",
   "execution_count": 1,
   "metadata": {},
   "outputs": [],
   "source": [
    "import pandas as pd\n",
    "import matplotlib.pyplot as plt"
   ]
  },
  {
   "attachments": {},
   "cell_type": "markdown",
   "metadata": {},
   "source": [
    "# Help Functions"
   ]
  },
  {
   "cell_type": "code",
   "execution_count": null,
   "metadata": {},
   "outputs": [],
   "source": []
  },
  {
   "attachments": {},
   "cell_type": "markdown",
   "metadata": {},
   "source": [
    "# Load Data"
   ]
  },
  {
   "attachments": {},
   "cell_type": "markdown",
   "metadata": {},
   "source": [
    "## Dados Exportação"
   ]
  },
  {
   "cell_type": "code",
   "execution_count": 2,
   "metadata": {},
   "outputs": [],
   "source": [
    "df_exp_espumante = pd.read_csv('datasets/tech-challenge/content/ExpEspumantes.csv', delimiter=\";\")\n",
    "df_exp_suco      = pd.read_csv('datasets/tech-challenge/content/ExpSuco.csv', delimiter=\";\")\n",
    "df_exp_uva       = pd.read_csv('datasets/tech-challenge/content/ExpUva.csv', delimiter=\";\")\n",
    "df_exp_vinho     = pd.read_csv('datasets/tech-challenge/content/ExpVinho.csv', delimiter=\";\")"
   ]
  },
  {
   "attachments": {},
   "cell_type": "markdown",
   "metadata": {},
   "source": [
    "## Dados Importação"
   ]
  },
  {
   "cell_type": "code",
   "execution_count": 3,
   "metadata": {},
   "outputs": [],
   "source": [
    "df_imp_espumante = pd.read_csv('datasets/tech-challenge/content/ImpEspumantes.csv', delimiter=\";\")\n",
    "df_imp_frescas   = pd.read_csv('datasets/tech-challenge/content/ImpFrescas.csv', delimiter=\";\")\n",
    "df_imp_passas    = pd.read_csv('datasets/tech-challenge/content/ImpPassas.csv', delimiter=\";\")\n",
    "df_imp_suco      = pd.read_csv('datasets/tech-challenge/content/ImpSuco.csv', delimiter=\";\")\n",
    "df_imp_vinho     = pd.read_csv('datasets/tech-challenge/content/ImpVinhos.csv', delimiter=\";\")"
   ]
  },
  {
   "attachments": {},
   "cell_type": "markdown",
   "metadata": {},
   "source": [
    "## Dados Processamento"
   ]
  },
  {
   "cell_type": "code",
   "execution_count": 4,
   "metadata": {},
   "outputs": [],
   "source": [
    "df_processa_americanas = pd.read_csv('datasets/tech-challenge/content/ProcessaAmericanas.csv', sep=';')\n",
    "df_processa_mesa       = pd.read_csv('datasets/tech-challenge/content/ProcessaMesa.csv', sep=';')\n",
    "df_processa_sem_class  = pd.read_csv('datasets/tech-challenge/content/ProcessaSemclass.csv', sep=';')\n",
    "df_processa_viniferas  = pd.read_csv('datasets/tech-challenge/content/ProcessaViniferas.csv', sep=';')"
   ]
  },
  {
   "attachments": {},
   "cell_type": "markdown",
   "metadata": {},
   "source": [
    "## Dados Comércio"
   ]
  },
  {
   "cell_type": "code",
   "execution_count": 5,
   "metadata": {},
   "outputs": [],
   "source": [
    "df_comercio = pd.read_csv('datasets/tech-challenge/content/Comercio.csv', sep=';')"
   ]
  },
  {
   "attachments": {},
   "cell_type": "markdown",
   "metadata": {},
   "source": [
    "## Dados Produção"
   ]
  },
  {
   "cell_type": "code",
   "execution_count": 6,
   "metadata": {},
   "outputs": [],
   "source": [
    "df_producao = pd.read_csv('datasets/tech-challenge/content/Producao.csv', sep=';')"
   ]
  },
  {
   "attachments": {},
   "cell_type": "markdown",
   "metadata": {},
   "source": [
    "# Análise Exploratória de Dados"
   ]
  },
  {
   "attachments": {},
   "cell_type": "markdown",
   "metadata": {},
   "source": [
    "# Tratamento dos Dados"
   ]
  },
  {
   "attachments": {},
   "cell_type": "markdown",
   "metadata": {},
   "source": [
    "## Tratamento Exportação"
   ]
  },
  {
   "cell_type": "code",
   "execution_count": 7,
   "metadata": {},
   "outputs": [],
   "source": [
    "colunas = df_exp_vinho.columns[-30:]\n",
    "colunas = colunas.insert(0, df_exp_vinho.columns[1])"
   ]
  },
  {
   "cell_type": "code",
   "execution_count": 9,
   "metadata": {},
   "outputs": [],
   "source": [
    "df_exp_espumante = df_exp_espumante[colunas]\n",
    "df_exp_suco      = df_exp_suco[colunas]\n",
    "df_exp_uva       = df_exp_uva[colunas]\n",
    "df_exp_vinho     = df_exp_vinho[colunas]"
   ]
  },
  {
   "cell_type": "code",
   "execution_count": 10,
   "metadata": {},
   "outputs": [],
   "source": [
    "df_exp_espumante['Produto'] = 'Espumante'\n",
    "df_exp_suco['Produto']      = 'Suco'\n",
    "df_exp_uva['Produto']       = 'Uva'\n",
    "df_exp_vinho['Produto']     = 'Vinho'"
   ]
  },
  {
   "cell_type": "code",
   "execution_count": 11,
   "metadata": {},
   "outputs": [],
   "source": [
    "df_exp_geral = pd.concat([df_exp_espumante, df_exp_suco, df_exp_uva, df_exp_vinho], ignore_index=True)"
   ]
  },
  {
   "cell_type": "code",
   "execution_count": 12,
   "metadata": {},
   "outputs": [],
   "source": [
    "new_columns_name = []\n",
    "for col in df_exp_geral.columns:\n",
    "    if str(col) == 'País':\n",
    "        new_columns_name.append(col)\n",
    "        \n",
    "    if str(col).endswith(\".1\"):\n",
    "        new_columns_name.append(str(col).replace(\".1\", \" KG\"))\n",
    "        \n",
    "    elif not str(col).endswith(\".1\") and not str(col) == \"País\":\n",
    "        new_columns_name.append(str(col).replace(\".1\", \" US$\"))"
   ]
  },
  {
   "cell_type": "code",
   "execution_count": 13,
   "metadata": {},
   "outputs": [],
   "source": [
    "df_exp_geral.columns = new_columns_name"
   ]
  },
  {
   "attachments": {},
   "cell_type": "markdown",
   "metadata": {},
   "source": [
    "## Tratamento Importação"
   ]
  },
  {
   "cell_type": "code",
   "execution_count": 14,
   "metadata": {},
   "outputs": [],
   "source": [
    "colunas = df_imp_espumante.columns[-30:]\n",
    "colunas = colunas.insert(0, df_imp_espumante.columns[1])"
   ]
  },
  {
   "cell_type": "code",
   "execution_count": 15,
   "metadata": {},
   "outputs": [],
   "source": [
    "df_imp_espumante = df_imp_espumante[colunas]\n",
    "df_imp_frescas   = df_imp_frescas[colunas]\n",
    "df_imp_passas    = df_imp_passas[colunas]\n",
    "df_imp_suco      = df_imp_suco[colunas]\n",
    "df_imp_vinho     = df_imp_vinho[colunas]"
   ]
  },
  {
   "cell_type": "code",
   "execution_count": 16,
   "metadata": {},
   "outputs": [],
   "source": [
    "df_imp_espumante['Produto'] = 'Espumante'\n",
    "df_imp_frescas['Produto']   = 'Frescas'\n",
    "df_imp_passas['Produto']    = 'Passas'\n",
    "df_imp_suco['Produto']      = 'Suco'\n",
    "df_imp_vinho['Produto']     = 'Vinho'"
   ]
  },
  {
   "cell_type": "code",
   "execution_count": 17,
   "metadata": {},
   "outputs": [],
   "source": [
    "df_imp_geral = pd.concat([df_imp_espumante, df_imp_frescas, df_imp_passas, df_imp_suco, df_imp_vinho], ignore_index=True)"
   ]
  },
  {
   "cell_type": "code",
   "execution_count": 18,
   "metadata": {},
   "outputs": [],
   "source": [
    "new_columns_name = []\n",
    "for col in df_imp_geral.columns:\n",
    "    if str(col) == 'País':\n",
    "        new_columns_name.append(col)\n",
    "        \n",
    "    if str(col).endswith(\".1\"):\n",
    "        new_columns_name.append(str(col).replace(\".1\", \" KG\"))\n",
    "        \n",
    "    elif not str(col).endswith(\".1\") and not str(col) == \"País\":\n",
    "        new_columns_name.append(str(col).replace(\".1\", \" US$\"))"
   ]
  },
  {
   "cell_type": "code",
   "execution_count": 19,
   "metadata": {},
   "outputs": [],
   "source": [
    "df_imp_geral.columns = new_columns_name"
   ]
  },
  {
   "attachments": {},
   "cell_type": "markdown",
   "metadata": {},
   "source": [
    "## Tratamento Processamento"
   ]
  },
  {
   "cell_type": "code",
   "execution_count": 20,
   "metadata": {},
   "outputs": [],
   "source": [
    "df_processa_americanas.drop(index=35, inplace=True)\n",
    "df_processa_americanas.drop(index=0, inplace=True)"
   ]
  },
  {
   "cell_type": "code",
   "execution_count": 21,
   "metadata": {},
   "outputs": [],
   "source": [
    "df_processa_mesa.drop(index=0, inplace=True)\n",
    "df_processa_mesa.drop(index=3, inplace=True)"
   ]
  },
  {
   "cell_type": "code",
   "execution_count": 22,
   "metadata": {},
   "outputs": [],
   "source": [
    "df_processa_viniferas.drop(index=0, inplace=True)\n",
    "df_processa_viniferas.drop(index=70, inplace=True)\n",
    "df_processa_viniferas.drop(index=135, inplace=True)"
   ]
  },
  {
   "cell_type": "code",
   "execution_count": 23,
   "metadata": {},
   "outputs": [],
   "source": [
    "df_processa = pd.concat([df_processa_americanas,df_processa_mesa,df_processa_viniferas,df_processa_sem_class])"
   ]
  },
  {
   "cell_type": "code",
   "execution_count": 24,
   "metadata": {},
   "outputs": [],
   "source": [
    "df_processa_filtrada = df_processa[['control', 'cultivar','2007','2008','2009','2010','2011','2012','2013','2014','2015','2016','2017','2018','2019','2020','2021']]\n"
   ]
  },
  {
   "cell_type": "code",
   "execution_count": 25,
   "metadata": {},
   "outputs": [],
   "source": [
    "df_periodos = df_processa.iloc[:,40:55]\n",
    "df_tipos = df_processa.iloc[:, 1:3]"
   ]
  },
  {
   "cell_type": "code",
   "execution_count": 26,
   "metadata": {},
   "outputs": [],
   "source": [
    "df_concat = pd.concat([df_tipos, df_periodos], axis=1)"
   ]
  },
  {
   "attachments": {},
   "cell_type": "markdown",
   "metadata": {},
   "source": [
    "## Tratamento Comércio"
   ]
  },
  {
   "cell_type": "code",
   "execution_count": 27,
   "metadata": {},
   "outputs": [],
   "source": [
    "columns_name = df_processa.columns"
   ]
  },
  {
   "cell_type": "code",
   "execution_count": 28,
   "metadata": {},
   "outputs": [],
   "source": [
    "df_comercio_com_titulo = df_comercio\n",
    "df_comercio_com_titulo.columns = columns_name"
   ]
  },
  {
   "cell_type": "code",
   "execution_count": 29,
   "metadata": {},
   "outputs": [],
   "source": [
    "df_comercio_com_titulo.drop(index=0, inplace=True)\n",
    "df_comercio_com_titulo.drop(index=4, inplace=True)\n",
    "df_comercio_com_titulo.drop(index=8, inplace=True)\n",
    "df_comercio_com_titulo.drop(index=9, inplace=True)\n",
    "df_comercio_com_titulo.drop(index=10, inplace=True)\n",
    "df_comercio_com_titulo.drop(index=14, inplace=True)\n",
    "df_comercio_com_titulo.drop(index=18, inplace=True)\n",
    "df_comercio_com_titulo.drop(index=23, inplace=True)\n",
    "df_comercio_com_titulo.drop(index=24, inplace=True)"
   ]
  },
  {
   "cell_type": "code",
   "execution_count": 30,
   "metadata": {},
   "outputs": [],
   "source": [
    "filtro_colunas = ['control', 'cultivar','2007','2008','2009','2010','2011','2012','2013','2014','2015','2016','2017','2018','2019','2020','2021']"
   ]
  },
  {
   "cell_type": "code",
   "execution_count": 31,
   "metadata": {},
   "outputs": [],
   "source": [
    "df_comercio_filtrada = df_comercio_com_titulo[filtro_colunas]"
   ]
  },
  {
   "attachments": {},
   "cell_type": "markdown",
   "metadata": {},
   "source": [
    "## Tratamento Produção"
   ]
  },
  {
   "cell_type": "code",
   "execution_count": 32,
   "metadata": {},
   "outputs": [],
   "source": [
    "columns_name = df_processa.columns"
   ]
  },
  {
   "cell_type": "code",
   "execution_count": 33,
   "metadata": {},
   "outputs": [],
   "source": [
    "df_producao_com_titulo = df_producao\n",
    "df_producao_com_titulo.columns = columns_name"
   ]
  },
  {
   "cell_type": "code",
   "execution_count": 34,
   "metadata": {},
   "outputs": [],
   "source": [
    "df_producao_com_titulo.drop(index=0, inplace=True)\n",
    "df_producao_com_titulo.drop(index=4, inplace=True)\n",
    "df_producao_com_titulo.drop(index=8, inplace=True)\n",
    "df_producao_com_titulo.drop(index=14, inplace=True)"
   ]
  },
  {
   "cell_type": "code",
   "execution_count": 35,
   "metadata": {},
   "outputs": [],
   "source": [
    "filtro_colunas = ['control', 'cultivar','2007','2008','2009','2010','2011','2012','2013','2014','2015','2016','2017','2018','2019','2020','2021']\n"
   ]
  },
  {
   "cell_type": "code",
   "execution_count": 36,
   "metadata": {},
   "outputs": [],
   "source": [
    "df_producao_filtrada = df_producao_com_titulo[filtro_colunas]"
   ]
  },
  {
   "attachments": {},
   "cell_type": "markdown",
   "metadata": {},
   "source": [
    "# Exploração dos Dados"
   ]
  },
  {
   "attachments": {},
   "cell_type": "markdown",
   "metadata": {},
   "source": [
    "## Exploração Exportação"
   ]
  },
  {
   "cell_type": "code",
   "execution_count": 37,
   "metadata": {},
   "outputs": [
    {
     "data": {
      "text/html": [
       "<div>\n",
       "<style scoped>\n",
       "    .dataframe tbody tr th:only-of-type {\n",
       "        vertical-align: middle;\n",
       "    }\n",
       "\n",
       "    .dataframe tbody tr th {\n",
       "        vertical-align: top;\n",
       "    }\n",
       "\n",
       "    .dataframe thead th {\n",
       "        text-align: right;\n",
       "    }\n",
       "</style>\n",
       "<table border=\"1\" class=\"dataframe\">\n",
       "  <thead>\n",
       "    <tr style=\"text-align: right;\">\n",
       "      <th></th>\n",
       "      <th>País</th>\n",
       "      <th>2007</th>\n",
       "      <th>2007 KG</th>\n",
       "      <th>2008</th>\n",
       "      <th>2008 KG</th>\n",
       "      <th>2009</th>\n",
       "      <th>2009 KG</th>\n",
       "      <th>2010</th>\n",
       "      <th>2010 KG</th>\n",
       "      <th>2011</th>\n",
       "      <th>...</th>\n",
       "      <th>2017 KG</th>\n",
       "      <th>2018</th>\n",
       "      <th>2018 KG</th>\n",
       "      <th>2019</th>\n",
       "      <th>2019 KG</th>\n",
       "      <th>2020</th>\n",
       "      <th>2020 KG</th>\n",
       "      <th>2021</th>\n",
       "      <th>2021 KG</th>\n",
       "      <th>Produto</th>\n",
       "    </tr>\n",
       "  </thead>\n",
       "  <tbody>\n",
       "    <tr>\n",
       "      <th>0</th>\n",
       "      <td>Alemanha</td>\n",
       "      <td>3547</td>\n",
       "      <td>10192</td>\n",
       "      <td>5423</td>\n",
       "      <td>20928</td>\n",
       "      <td>6648</td>\n",
       "      <td>29018</td>\n",
       "      <td>1958</td>\n",
       "      <td>6877</td>\n",
       "      <td>1976</td>\n",
       "      <td>...</td>\n",
       "      <td>28799</td>\n",
       "      <td>4092</td>\n",
       "      <td>21373</td>\n",
       "      <td>1003</td>\n",
       "      <td>5466</td>\n",
       "      <td>2388</td>\n",
       "      <td>14767</td>\n",
       "      <td>142</td>\n",
       "      <td>265</td>\n",
       "      <td>Espumante</td>\n",
       "    </tr>\n",
       "    <tr>\n",
       "      <th>1</th>\n",
       "      <td>Angola</td>\n",
       "      <td>6293</td>\n",
       "      <td>26252</td>\n",
       "      <td>2244</td>\n",
       "      <td>10581</td>\n",
       "      <td>11393</td>\n",
       "      <td>33664</td>\n",
       "      <td>104138</td>\n",
       "      <td>672533</td>\n",
       "      <td>904</td>\n",
       "      <td>...</td>\n",
       "      <td>0</td>\n",
       "      <td>63</td>\n",
       "      <td>280</td>\n",
       "      <td>1007</td>\n",
       "      <td>3615</td>\n",
       "      <td>24</td>\n",
       "      <td>38</td>\n",
       "      <td>0</td>\n",
       "      <td>0</td>\n",
       "      <td>Espumante</td>\n",
       "    </tr>\n",
       "    <tr>\n",
       "      <th>2</th>\n",
       "      <td>Antigua e Barbuda</td>\n",
       "      <td>0</td>\n",
       "      <td>0</td>\n",
       "      <td>0</td>\n",
       "      <td>0</td>\n",
       "      <td>0</td>\n",
       "      <td>0</td>\n",
       "      <td>0</td>\n",
       "      <td>0</td>\n",
       "      <td>0</td>\n",
       "      <td>...</td>\n",
       "      <td>0</td>\n",
       "      <td>0</td>\n",
       "      <td>0</td>\n",
       "      <td>7</td>\n",
       "      <td>34</td>\n",
       "      <td>32</td>\n",
       "      <td>328</td>\n",
       "      <td>10</td>\n",
       "      <td>82</td>\n",
       "      <td>Espumante</td>\n",
       "    </tr>\n",
       "  </tbody>\n",
       "</table>\n",
       "<p>3 rows × 32 columns</p>\n",
       "</div>"
      ],
      "text/plain": [
       "                País  2007  2007 KG  2008  2008 KG   2009  2009 KG    2010  \\\n",
       "0           Alemanha  3547    10192  5423    20928   6648    29018    1958   \n",
       "1             Angola  6293    26252  2244    10581  11393    33664  104138   \n",
       "2  Antigua e Barbuda     0        0     0        0      0        0       0   \n",
       "\n",
       "   2010 KG  2011  ...  2017 KG  2018  2018 KG  2019  2019 KG  2020  2020 KG  \\\n",
       "0     6877  1976  ...    28799  4092    21373  1003     5466  2388    14767   \n",
       "1   672533   904  ...        0    63      280  1007     3615    24       38   \n",
       "2        0     0  ...        0     0        0     7       34    32      328   \n",
       "\n",
       "   2021  2021 KG    Produto  \n",
       "0   142      265  Espumante  \n",
       "1     0        0  Espumante  \n",
       "2    10       82  Espumante  \n",
       "\n",
       "[3 rows x 32 columns]"
      ]
     },
     "execution_count": 37,
     "metadata": {},
     "output_type": "execute_result"
    }
   ],
   "source": [
    "df_exp_geral.head(3)"
   ]
  },
  {
   "attachments": {},
   "cell_type": "markdown",
   "metadata": {},
   "source": [
    "## Exploração Importação"
   ]
  },
  {
   "cell_type": "code",
   "execution_count": 38,
   "metadata": {},
   "outputs": [
    {
     "data": {
      "text/html": [
       "<div>\n",
       "<style scoped>\n",
       "    .dataframe tbody tr th:only-of-type {\n",
       "        vertical-align: middle;\n",
       "    }\n",
       "\n",
       "    .dataframe tbody tr th {\n",
       "        vertical-align: top;\n",
       "    }\n",
       "\n",
       "    .dataframe thead th {\n",
       "        text-align: right;\n",
       "    }\n",
       "</style>\n",
       "<table border=\"1\" class=\"dataframe\">\n",
       "  <thead>\n",
       "    <tr style=\"text-align: right;\">\n",
       "      <th></th>\n",
       "      <th>País</th>\n",
       "      <th>2007</th>\n",
       "      <th>2007 KG</th>\n",
       "      <th>2008</th>\n",
       "      <th>2008 KG</th>\n",
       "      <th>2009</th>\n",
       "      <th>2009 KG</th>\n",
       "      <th>2010</th>\n",
       "      <th>2010 KG</th>\n",
       "      <th>2011</th>\n",
       "      <th>...</th>\n",
       "      <th>2017 KG</th>\n",
       "      <th>2018</th>\n",
       "      <th>2018 KG</th>\n",
       "      <th>2019</th>\n",
       "      <th>2019 KG</th>\n",
       "      <th>2020</th>\n",
       "      <th>2020 KG</th>\n",
       "      <th>2021</th>\n",
       "      <th>2021 KG</th>\n",
       "      <th>Produto</th>\n",
       "    </tr>\n",
       "  </thead>\n",
       "  <tbody>\n",
       "    <tr>\n",
       "      <th>0</th>\n",
       "      <td>Africa do Sul</td>\n",
       "      <td>90</td>\n",
       "      <td>1073</td>\n",
       "      <td>9212</td>\n",
       "      <td>30630</td>\n",
       "      <td>10381</td>\n",
       "      <td>42463</td>\n",
       "      <td>8121</td>\n",
       "      <td>37035</td>\n",
       "      <td>20213</td>\n",
       "      <td>...</td>\n",
       "      <td>23919</td>\n",
       "      <td>15368</td>\n",
       "      <td>74800</td>\n",
       "      <td>17583</td>\n",
       "      <td>72077</td>\n",
       "      <td>3574</td>\n",
       "      <td>14542</td>\n",
       "      <td>6980</td>\n",
       "      <td>36677</td>\n",
       "      <td>Espumante</td>\n",
       "    </tr>\n",
       "    <tr>\n",
       "      <th>1</th>\n",
       "      <td>Alemanha</td>\n",
       "      <td>1980</td>\n",
       "      <td>11786</td>\n",
       "      <td>1959</td>\n",
       "      <td>12516</td>\n",
       "      <td>1170</td>\n",
       "      <td>8434</td>\n",
       "      <td>1116</td>\n",
       "      <td>5753</td>\n",
       "      <td>810</td>\n",
       "      <td>...</td>\n",
       "      <td>37116</td>\n",
       "      <td>18376</td>\n",
       "      <td>82273</td>\n",
       "      <td>26853</td>\n",
       "      <td>169989</td>\n",
       "      <td>21174</td>\n",
       "      <td>65359</td>\n",
       "      <td>19977</td>\n",
       "      <td>46237</td>\n",
       "      <td>Espumante</td>\n",
       "    </tr>\n",
       "    <tr>\n",
       "      <th>2</th>\n",
       "      <td>Argentina</td>\n",
       "      <td>556320</td>\n",
       "      <td>1441196</td>\n",
       "      <td>1015357</td>\n",
       "      <td>3094003</td>\n",
       "      <td>894550</td>\n",
       "      <td>2730102</td>\n",
       "      <td>1086901</td>\n",
       "      <td>3583463</td>\n",
       "      <td>997492</td>\n",
       "      <td>...</td>\n",
       "      <td>2249681</td>\n",
       "      <td>706478</td>\n",
       "      <td>2462909</td>\n",
       "      <td>757716</td>\n",
       "      <td>2282614</td>\n",
       "      <td>469547</td>\n",
       "      <td>1304986</td>\n",
       "      <td>723847</td>\n",
       "      <td>2211657</td>\n",
       "      <td>Espumante</td>\n",
       "    </tr>\n",
       "  </tbody>\n",
       "</table>\n",
       "<p>3 rows × 32 columns</p>\n",
       "</div>"
      ],
      "text/plain": [
       "            País    2007  2007 KG     2008  2008 KG    2009  2009 KG     2010  \\\n",
       "0  Africa do Sul      90     1073     9212    30630   10381    42463     8121   \n",
       "1       Alemanha    1980    11786     1959    12516    1170     8434     1116   \n",
       "2      Argentina  556320  1441196  1015357  3094003  894550  2730102  1086901   \n",
       "\n",
       "   2010 KG    2011  ...  2017 KG    2018  2018 KG    2019  2019 KG    2020  \\\n",
       "0    37035   20213  ...    23919   15368    74800   17583    72077    3574   \n",
       "1     5753     810  ...    37116   18376    82273   26853   169989   21174   \n",
       "2  3583463  997492  ...  2249681  706478  2462909  757716  2282614  469547   \n",
       "\n",
       "   2020 KG    2021  2021 KG    Produto  \n",
       "0    14542    6980    36677  Espumante  \n",
       "1    65359   19977    46237  Espumante  \n",
       "2  1304986  723847  2211657  Espumante  \n",
       "\n",
       "[3 rows x 32 columns]"
      ]
     },
     "execution_count": 38,
     "metadata": {},
     "output_type": "execute_result"
    }
   ],
   "source": [
    "df_imp_geral.head(3)"
   ]
  },
  {
   "attachments": {},
   "cell_type": "markdown",
   "metadata": {},
   "source": [
    "## Exploração Processamento"
   ]
  },
  {
   "cell_type": "code",
   "execution_count": 39,
   "metadata": {},
   "outputs": [
    {
     "data": {
      "text/html": [
       "<div>\n",
       "<style scoped>\n",
       "    .dataframe tbody tr th:only-of-type {\n",
       "        vertical-align: middle;\n",
       "    }\n",
       "\n",
       "    .dataframe tbody tr th {\n",
       "        vertical-align: top;\n",
       "    }\n",
       "\n",
       "    .dataframe thead th {\n",
       "        text-align: right;\n",
       "    }\n",
       "</style>\n",
       "<table border=\"1\" class=\"dataframe\">\n",
       "  <thead>\n",
       "    <tr style=\"text-align: right;\">\n",
       "      <th></th>\n",
       "      <th>control</th>\n",
       "      <th>cultivar</th>\n",
       "      <th>2007</th>\n",
       "      <th>2008</th>\n",
       "      <th>2009</th>\n",
       "      <th>2010</th>\n",
       "      <th>2011</th>\n",
       "      <th>2012</th>\n",
       "      <th>2013</th>\n",
       "      <th>2014</th>\n",
       "      <th>2015</th>\n",
       "      <th>2016</th>\n",
       "      <th>2017</th>\n",
       "      <th>2018</th>\n",
       "      <th>2019</th>\n",
       "      <th>2020</th>\n",
       "      <th>2021</th>\n",
       "    </tr>\n",
       "  </thead>\n",
       "  <tbody>\n",
       "    <tr>\n",
       "      <th>1</th>\n",
       "      <td>ti_Bacarina</td>\n",
       "      <td>Bacarina</td>\n",
       "      <td>12070</td>\n",
       "      <td>16780</td>\n",
       "      <td>10810</td>\n",
       "      <td>7850</td>\n",
       "      <td>12930</td>\n",
       "      <td>3820</td>\n",
       "      <td>2990</td>\n",
       "      <td>3900</td>\n",
       "      <td>0</td>\n",
       "      <td>0</td>\n",
       "      <td>0</td>\n",
       "      <td>0</td>\n",
       "      <td>nd</td>\n",
       "      <td>0</td>\n",
       "      <td>0</td>\n",
       "    </tr>\n",
       "    <tr>\n",
       "      <th>2</th>\n",
       "      <td>ti_Bailey</td>\n",
       "      <td>Bailey</td>\n",
       "      <td>236139</td>\n",
       "      <td>235828</td>\n",
       "      <td>559815</td>\n",
       "      <td>604895</td>\n",
       "      <td>769140</td>\n",
       "      <td>912286</td>\n",
       "      <td>756000</td>\n",
       "      <td>991449</td>\n",
       "      <td>963159</td>\n",
       "      <td>442784</td>\n",
       "      <td>1370092</td>\n",
       "      <td>539742</td>\n",
       "      <td>nd</td>\n",
       "      <td>534981</td>\n",
       "      <td>4092669</td>\n",
       "    </tr>\n",
       "    <tr>\n",
       "      <th>3</th>\n",
       "      <td>ti_Bordo</td>\n",
       "      <td>Bordo</td>\n",
       "      <td>76907674</td>\n",
       "      <td>97644667</td>\n",
       "      <td>69521354</td>\n",
       "      <td>89066377</td>\n",
       "      <td>139754250</td>\n",
       "      <td>127378006</td>\n",
       "      <td>102788361</td>\n",
       "      <td>113008320</td>\n",
       "      <td>137467196</td>\n",
       "      <td>60976531</td>\n",
       "      <td>160146475</td>\n",
       "      <td>158405972</td>\n",
       "      <td>nd</td>\n",
       "      <td>129978861</td>\n",
       "      <td>117655879</td>\n",
       "    </tr>\n",
       "  </tbody>\n",
       "</table>\n",
       "</div>"
      ],
      "text/plain": [
       "       control  cultivar      2007      2008      2009      2010       2011  \\\n",
       "1  ti_Bacarina  Bacarina     12070     16780     10810      7850      12930   \n",
       "2    ti_Bailey    Bailey    236139    235828    559815    604895     769140   \n",
       "3     ti_Bordo     Bordo  76907674  97644667  69521354  89066377  139754250   \n",
       "\n",
       "        2012       2013       2014       2015      2016       2017       2018  \\\n",
       "1       3820       2990       3900          0         0          0          0   \n",
       "2     912286     756000     991449     963159    442784    1370092     539742   \n",
       "3  127378006  102788361  113008320  137467196  60976531  160146475  158405972   \n",
       "\n",
       "  2019       2020       2021  \n",
       "1   nd          0          0  \n",
       "2   nd     534981    4092669  \n",
       "3   nd  129978861  117655879  "
      ]
     },
     "execution_count": 39,
     "metadata": {},
     "output_type": "execute_result"
    }
   ],
   "source": [
    "df_processa_filtrada.head(3)"
   ]
  },
  {
   "attachments": {},
   "cell_type": "markdown",
   "metadata": {},
   "source": [
    "## Exploração Comércio"
   ]
  },
  {
   "cell_type": "code",
   "execution_count": 40,
   "metadata": {},
   "outputs": [
    {
     "data": {
      "text/html": [
       "<div>\n",
       "<style scoped>\n",
       "    .dataframe tbody tr th:only-of-type {\n",
       "        vertical-align: middle;\n",
       "    }\n",
       "\n",
       "    .dataframe tbody tr th {\n",
       "        vertical-align: top;\n",
       "    }\n",
       "\n",
       "    .dataframe thead th {\n",
       "        text-align: right;\n",
       "    }\n",
       "</style>\n",
       "<table border=\"1\" class=\"dataframe\">\n",
       "  <thead>\n",
       "    <tr style=\"text-align: right;\">\n",
       "      <th></th>\n",
       "      <th>control</th>\n",
       "      <th>cultivar</th>\n",
       "      <th>2007</th>\n",
       "      <th>2008</th>\n",
       "      <th>2009</th>\n",
       "      <th>2010</th>\n",
       "      <th>2011</th>\n",
       "      <th>2012</th>\n",
       "      <th>2013</th>\n",
       "      <th>2014</th>\n",
       "      <th>2015</th>\n",
       "      <th>2016</th>\n",
       "      <th>2017</th>\n",
       "      <th>2018</th>\n",
       "      <th>2019</th>\n",
       "      <th>2020</th>\n",
       "      <th>2021</th>\n",
       "    </tr>\n",
       "  </thead>\n",
       "  <tbody>\n",
       "    <tr>\n",
       "      <th>1</th>\n",
       "      <td>vm_Rosado</td>\n",
       "      <td>Rosado</td>\n",
       "      <td>2252558</td>\n",
       "      <td>1840779</td>\n",
       "      <td>2307580</td>\n",
       "      <td>2036928</td>\n",
       "      <td>1668823</td>\n",
       "      <td>1738134</td>\n",
       "      <td>1777648</td>\n",
       "      <td>1419855</td>\n",
       "      <td>1409002</td>\n",
       "      <td>1391942</td>\n",
       "      <td>1097426</td>\n",
       "      <td>1972944</td>\n",
       "      <td>1265435</td>\n",
       "      <td>1394901</td>\n",
       "      <td>1931606</td>\n",
       "    </tr>\n",
       "    <tr>\n",
       "      <th>2</th>\n",
       "      <td>vm_Branco</td>\n",
       "      <td>Branco</td>\n",
       "      <td>29122090</td>\n",
       "      <td>26627054</td>\n",
       "      <td>39214217</td>\n",
       "      <td>30556943</td>\n",
       "      <td>32078923</td>\n",
       "      <td>31266661</td>\n",
       "      <td>31779668</td>\n",
       "      <td>26734500</td>\n",
       "      <td>25760681</td>\n",
       "      <td>18731315</td>\n",
       "      <td>20653091</td>\n",
       "      <td>20097830</td>\n",
       "      <td>20661836</td>\n",
       "      <td>24589607</td>\n",
       "      <td>22426954</td>\n",
       "    </tr>\n",
       "    <tr>\n",
       "      <th>3</th>\n",
       "      <td>VINHO  FINO DE MESA</td>\n",
       "      <td>VINHO  FINO DE MESA</td>\n",
       "      <td>21485699</td>\n",
       "      <td>23167738</td>\n",
       "      <td>33080270</td>\n",
       "      <td>21390159</td>\n",
       "      <td>19967310</td>\n",
       "      <td>22469950</td>\n",
       "      <td>27912934</td>\n",
       "      <td>20424983</td>\n",
       "      <td>20141631</td>\n",
       "      <td>19630158</td>\n",
       "      <td>15874354</td>\n",
       "      <td>14826143</td>\n",
       "      <td>15684588</td>\n",
       "      <td>24310834</td>\n",
       "      <td>27080445</td>\n",
       "    </tr>\n",
       "  </tbody>\n",
       "</table>\n",
       "</div>"
      ],
      "text/plain": [
       "               control             cultivar      2007      2008      2009  \\\n",
       "1            vm_Rosado               Rosado   2252558   1840779   2307580   \n",
       "2            vm_Branco               Branco  29122090  26627054  39214217   \n",
       "3  VINHO  FINO DE MESA  VINHO  FINO DE MESA  21485699  23167738  33080270   \n",
       "\n",
       "       2010      2011      2012      2013      2014      2015      2016  \\\n",
       "1   2036928   1668823   1738134   1777648   1419855   1409002   1391942   \n",
       "2  30556943  32078923  31266661  31779668  26734500  25760681  18731315   \n",
       "3  21390159  19967310  22469950  27912934  20424983  20141631  19630158   \n",
       "\n",
       "       2017      2018      2019      2020      2021  \n",
       "1   1097426   1972944   1265435   1394901   1931606  \n",
       "2  20653091  20097830  20661836  24589607  22426954  \n",
       "3  15874354  14826143  15684588  24310834  27080445  "
      ]
     },
     "execution_count": 40,
     "metadata": {},
     "output_type": "execute_result"
    }
   ],
   "source": [
    "df_comercio_filtrada.head(3)"
   ]
  },
  {
   "attachments": {},
   "cell_type": "markdown",
   "metadata": {},
   "source": [
    "## Exploração Produção"
   ]
  },
  {
   "cell_type": "code",
   "execution_count": 41,
   "metadata": {},
   "outputs": [
    {
     "data": {
      "text/html": [
       "<div>\n",
       "<style scoped>\n",
       "    .dataframe tbody tr th:only-of-type {\n",
       "        vertical-align: middle;\n",
       "    }\n",
       "\n",
       "    .dataframe tbody tr th {\n",
       "        vertical-align: top;\n",
       "    }\n",
       "\n",
       "    .dataframe thead th {\n",
       "        text-align: right;\n",
       "    }\n",
       "</style>\n",
       "<table border=\"1\" class=\"dataframe\">\n",
       "  <thead>\n",
       "    <tr style=\"text-align: right;\">\n",
       "      <th></th>\n",
       "      <th>control</th>\n",
       "      <th>cultivar</th>\n",
       "      <th>2007</th>\n",
       "      <th>2008</th>\n",
       "      <th>2009</th>\n",
       "      <th>2010</th>\n",
       "      <th>2011</th>\n",
       "      <th>2012</th>\n",
       "      <th>2013</th>\n",
       "      <th>2014</th>\n",
       "      <th>2015</th>\n",
       "      <th>2016</th>\n",
       "      <th>2017</th>\n",
       "      <th>2018</th>\n",
       "      <th>2019</th>\n",
       "      <th>2020</th>\n",
       "      <th>2021</th>\n",
       "    </tr>\n",
       "  </thead>\n",
       "  <tbody>\n",
       "    <tr>\n",
       "      <th>1</th>\n",
       "      <td>vm_Branco</td>\n",
       "      <td>Branco</td>\n",
       "      <td>42118552</td>\n",
       "      <td>42942053</td>\n",
       "      <td>39211278</td>\n",
       "      <td>35408083</td>\n",
       "      <td>46007504</td>\n",
       "      <td>34938249</td>\n",
       "      <td>32066403</td>\n",
       "      <td>37438069</td>\n",
       "      <td>39557250</td>\n",
       "      <td>10727099</td>\n",
       "      <td>217527985</td>\n",
       "      <td>29229970</td>\n",
       "      <td>22032828</td>\n",
       "      <td>19568734</td>\n",
       "      <td>26432799</td>\n",
       "    </tr>\n",
       "    <tr>\n",
       "      <th>2</th>\n",
       "      <td>vm_Rosado</td>\n",
       "      <td>Rosado</td>\n",
       "      <td>5013136</td>\n",
       "      <td>3506830</td>\n",
       "      <td>2063474</td>\n",
       "      <td>2569809</td>\n",
       "      <td>1719887</td>\n",
       "      <td>1963356</td>\n",
       "      <td>1726022</td>\n",
       "      <td>958691</td>\n",
       "      <td>939838</td>\n",
       "      <td>312725</td>\n",
       "      <td>36121245</td>\n",
       "      <td>875524</td>\n",
       "      <td>1551794</td>\n",
       "      <td>715289</td>\n",
       "      <td>1391200</td>\n",
       "    </tr>\n",
       "    <tr>\n",
       "      <th>3</th>\n",
       "      <td>VINHO FINO DE MESA (VINÍFERA)</td>\n",
       "      <td>VINHO FINO DE MESA (VINÍFERA)</td>\n",
       "      <td>43176484</td>\n",
       "      <td>47334501</td>\n",
       "      <td>39900568</td>\n",
       "      <td>24805713</td>\n",
       "      <td>47598471</td>\n",
       "      <td>45200730</td>\n",
       "      <td>45782530</td>\n",
       "      <td>38464314</td>\n",
       "      <td>37148982</td>\n",
       "      <td>18070626</td>\n",
       "      <td>44537870</td>\n",
       "      <td>38707220</td>\n",
       "      <td>37615422</td>\n",
       "      <td>32516686</td>\n",
       "      <td>43474998</td>\n",
       "    </tr>\n",
       "  </tbody>\n",
       "</table>\n",
       "</div>"
      ],
      "text/plain": [
       "                         control                       cultivar      2007  \\\n",
       "1                      vm_Branco                         Branco  42118552   \n",
       "2                      vm_Rosado                         Rosado   5013136   \n",
       "3  VINHO FINO DE MESA (VINÍFERA)  VINHO FINO DE MESA (VINÍFERA)  43176484   \n",
       "\n",
       "       2008      2009      2010      2011      2012      2013      2014  \\\n",
       "1  42942053  39211278  35408083  46007504  34938249  32066403  37438069   \n",
       "2   3506830   2063474   2569809   1719887   1963356   1726022    958691   \n",
       "3  47334501  39900568  24805713  47598471  45200730  45782530  38464314   \n",
       "\n",
       "       2015      2016       2017      2018      2019      2020      2021  \n",
       "1  39557250  10727099  217527985  29229970  22032828  19568734  26432799  \n",
       "2    939838    312725   36121245    875524   1551794    715289   1391200  \n",
       "3  37148982  18070626   44537870  38707220  37615422  32516686  43474998  "
      ]
     },
     "execution_count": 41,
     "metadata": {},
     "output_type": "execute_result"
    }
   ],
   "source": [
    "df_producao_filtrada.head(3)"
   ]
  },
  {
   "attachments": {},
   "cell_type": "markdown",
   "metadata": {},
   "source": [
    "## Levantamento de Hipóteses "
   ]
  },
  {
   "cell_type": "code",
   "execution_count": null,
   "metadata": {},
   "outputs": [],
   "source": [
    "## Insights Requeridos|Atividades\n",
    "\n",
    "# Criação da Tabela do Head (País de Origem(Brasil), País de Destino, Quantidade em Litros de Vinho Exportado, Valor em US$)\n",
    "# Informar o montante de vendas de exportação nos ultimos 15 anos, separados por País\n",
    "# trazer a prospecção futura\n",
    "# Trazer possíveis melhorias nas exportações\n",
    "# Criar gráficos informando os detalhes de cada Insight que iremos gerar\n",
    "\n",
    "\n",
    "\n",
    "# Tabelas de Exportação - O uso delas será para fazer as atividades principais do projeto, que serão: Criação da tabela, separação dos relatórios por pais, prospecção, possiveis melhorias e gráficos.\n",
    "# Tabelas de Importação - Comparar com a tabela de exportação"
   ]
  },
  {
   "attachments": {},
   "cell_type": "markdown",
   "metadata": {},
   "source": []
  }
 ],
 "metadata": {
  "kernelspec": {
   "display_name": "Python 3",
   "language": "python",
   "name": "python3"
  },
  "language_info": {
   "codemirror_mode": {
    "name": "ipython",
    "version": 3
   },
   "file_extension": ".py",
   "mimetype": "text/x-python",
   "name": "python",
   "nbconvert_exporter": "python",
   "pygments_lexer": "ipython3",
   "version": "3.10.5"
  },
  "orig_nbformat": 4
 },
 "nbformat": 4,
 "nbformat_minor": 2
}
